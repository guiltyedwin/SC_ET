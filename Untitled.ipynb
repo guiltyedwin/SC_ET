{
 "cells": [
  {
   "cell_type": "code",
   "execution_count": 5,
   "metadata": {
    "collapsed": false
   },
   "outputs": [
    {
     "name": "stdout",
     "output_type": "stream",
     "text": [
      "The first and last item in list: 1 and 9\n"
     ]
    }
   ],
   "source": [
    "odds = [1,3,5,7,9]\n",
    "print (\"The first and last item in list:\", odds[0], \"and\", odds[4])"
   ]
  },
  {
   "cell_type": "code",
   "execution_count": 6,
   "metadata": {
    "collapsed": false
   },
   "outputs": [
    {
     "name": "stdout",
     "output_type": "stream",
     "text": [
      "names list: ['Newton', 'Darwing', 'Turing']\n",
      "new names ['Newton', 'Darwin', 'Turing']\n"
     ]
    }
   ],
   "source": [
    "names= ['Newton', 'Darwing', 'Turing']\n",
    "print ('names list:', names)\n",
    "names[1] = 'Darwin'\n",
    "print ('new names', names)"
   ]
  },
  {
   "cell_type": "code",
   "execution_count": 9,
   "metadata": {
    "collapsed": false
   },
   "outputs": [
    {
     "name": "stdout",
     "output_type": "stream",
     "text": [
      "['h', 'e', 'l', 'l', 'o']\n"
     ]
    }
   ],
   "source": [
    "string = \"hello\"\n",
    "\n",
    "newlist =[]\n",
    "for char in string:\n",
    "     newlist.append(char)\n",
    "        \n",
    "print (newlist)"
   ]
  },
  {
   "cell_type": "code",
   "execution_count": 19,
   "metadata": {
    "collapsed": false
   },
   "outputs": [
    {
     "name": "stdout",
     "output_type": "stream",
     "text": [
      "true\n"
     ]
    }
   ],
   "source": [
    "a=-19\n",
    "b=-20\n",
    "\n",
    "if (0.9*b<a<1.1*b) or (0.9*b>a>1.1*b):\n",
    "    print (\"true\")\n",
    "else:\n",
    "    print ('false')"
   ]
  },
  {
   "cell_type": "code",
   "execution_count": 21,
   "metadata": {
    "collapsed": false
   },
   "outputs": [
    {
     "ename": "SyntaxError",
     "evalue": "invalid syntax (<ipython-input-21-855df6cb8ea0>, line 4)",
     "output_type": "error",
     "traceback": [
      "\u001b[0;36m  File \u001b[0;32m\"<ipython-input-21-855df6cb8ea0>\"\u001b[0;36m, line \u001b[0;32m4\u001b[0m\n\u001b[0;31m    if a = [0.9*b:1.1*b]:\u001b[0m\n\u001b[0m         ^\u001b[0m\n\u001b[0;31mSyntaxError\u001b[0m\u001b[0;31m:\u001b[0m invalid syntax\n"
     ]
    }
   ],
   "source": []
  },
  {
   "cell_type": "code",
   "execution_count": null,
   "metadata": {
    "collapsed": true
   },
   "outputs": [],
   "source": []
  }
 ],
 "metadata": {
  "kernelspec": {
   "display_name": "Python 3",
   "language": "python",
   "name": "python3"
  },
  "language_info": {
   "codemirror_mode": {
    "name": "ipython",
    "version": 3
   },
   "file_extension": ".py",
   "mimetype": "text/x-python",
   "name": "python",
   "nbconvert_exporter": "python",
   "pygments_lexer": "ipython3",
   "version": "3.5.1"
  }
 },
 "nbformat": 4,
 "nbformat_minor": 0
}
